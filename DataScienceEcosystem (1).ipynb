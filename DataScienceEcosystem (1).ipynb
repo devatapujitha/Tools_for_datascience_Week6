{
 "cells": [
  {
   "cell_type": "markdown",
   "id": "35459579",
   "metadata": {},
   "source": [
    "# Data Science Tools and Ecosystem"
   ]
  },
  {
   "cell_type": "markdown",
   "id": "e3eca551",
   "metadata": {},
   "source": [
    "In this notebook, Data Science Tools and Ecosystem are summarized."
   ]
  },
  {
   "cell_type": "markdown",
   "id": "e7e4fe32",
   "metadata": {},
   "source": [
    "Some of the popular languages that Data Scientists use are:"
   ]
  },
  {
   "cell_type": "markdown",
   "id": "c8c9eb16",
   "metadata": {},
   "source": [
    "Ordered :\n",
    "1. Python\n",
    "2. R\n",
    "3. Java\n",
    "    "
   ]
  },
  {
   "cell_type": "markdown",
   "id": "46ef3be2",
   "metadata": {},
   "source": [
    "Data Science Libraries:\n",
    "1. Matplotlib\n",
    "2. ggplot\n",
    "3. Lattice\n",
    "4. Plotly\n",
    "5. Leaflet"
   ]
  },
  {
   "cell_type": "markdown",
   "id": "489435f4",
   "metadata": {},
   "source": [
    "| Data Science Tools |\n",
    "|-------------------|\n",
    "| Jupyter Notebook |\n",
    "| GitHub |\n",
    "| Rstudio |\n",
    "| VSCode |\n",
    "| Watson Studio |\n",
    "| GitLab |"
   ]
  },
  {
   "cell_type": "markdown",
   "id": "7842e6e1",
   "metadata": {},
   "source": [
    "Objectives:\n",
    "* Python\n",
    "* Java\n",
    "* R\n",
    "* Julia\n",
    "* MySQL"
   ]
  },
  {
   "cell_type": "markdown",
   "id": "7db148da",
   "metadata": {},
   "source": [
    "### Below are a few examples of evaluating arithmetic expressions in Python"
   ]
  },
  {
   "cell_type": "code",
   "execution_count": 2,
   "id": "2b2a3eb1",
   "metadata": {},
   "outputs": [
    {
     "data": {
      "text/plain": [
       "17"
      ]
     },
     "execution_count": 2,
     "metadata": {},
     "output_type": "execute_result"
    }
   ],
   "source": [
    "(3*4)+5\n",
    "# This a simple arithmetic expression to mutiply then add integers"
   ]
  },
  {
   "cell_type": "code",
   "execution_count": 4,
   "id": "782cf456",
   "metadata": {},
   "outputs": [
    {
     "data": {
      "text/plain": [
       "3.3333333333333335"
      ]
     },
     "execution_count": 4,
     "metadata": {},
     "output_type": "execute_result"
    }
   ],
   "source": [
    "200/60\n",
    "# This will convert 200 minutes to hours by diving by 60."
   ]
  },
  {
   "cell_type": "markdown",
   "id": "d4cf7d8c",
   "metadata": {},
   "source": [
    "## Author"
   ]
  },
  {
   "cell_type": "markdown",
   "id": "e53472fd",
   "metadata": {},
   "source": [
    "Devata.Pujitha"
   ]
  },
  {
   "cell_type": "code",
   "execution_count": null,
   "id": "e6a7b32c",
   "metadata": {},
   "outputs": [],
   "source": []
  }
 ],
 "metadata": {
  "kernelspec": {
   "display_name": "Python 3 (ipykernel)",
   "language": "python",
   "name": "python3"
  },
  "language_info": {
   "codemirror_mode": {
    "name": "ipython",
    "version": 3
   },
   "file_extension": ".py",
   "mimetype": "text/x-python",
   "name": "python",
   "nbconvert_exporter": "python",
   "pygments_lexer": "ipython3",
   "version": "3.11.4"
  }
 },
 "nbformat": 4,
 "nbformat_minor": 5
}
